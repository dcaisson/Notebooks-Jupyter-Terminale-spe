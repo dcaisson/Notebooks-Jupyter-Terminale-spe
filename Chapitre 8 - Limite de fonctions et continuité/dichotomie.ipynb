{
 "cells": [
  {
   "cell_type": "markdown",
   "metadata": {},
   "source": [
    "# Équations du type $f(x)=0$ &ndash; Encadrement d'une solution par dichotomie"
   ]
  },
  {
   "cell_type": "markdown",
   "metadata": {},
   "source": [
    "## 1. Introduction"
   ]
  },
  {
   "cell_type": "markdown",
   "metadata": {},
   "source": [
    "### 1.1 Un exemple"
   ]
  },
  {
   "cell_type": "markdown",
   "metadata": {},
   "source": [
    "Soit $f$ la fonction définie sur $\\mathbb{R}$ par $f(x)=e^x(x-1)+x^2$.\n",
    "\n",
    "Dans le dernier contrôle, nous avons vu que l'équation $f(x)=0$ admet une unique solution dans l'intervalle $[0;1]$.\n",
    "\n",
    "L'objectif de ce TP est de déterminer un encadrement de cette solution, d'amplitude inférieure ou égale à un réel $\\epsilon$ (strictement positif) donné."
   ]
  },
  {
   "cell_type": "markdown",
   "metadata": {},
   "source": [
    "### 1.2 Algorithme"
   ]
  },
  {
   "cell_type": "markdown",
   "metadata": {},
   "source": [
    "On utilise l'algorithme ci-dessous avec $a=0$ et $b=1$ :"
   ]
  },
  {
   "cell_type": "markdown",
   "metadata": {},
   "source": [
    "```\n",
    "Tant que (b - a) > ε \n",
    "    m ← (a + b) / 2\n",
    "    Si (f(a)*f(m) ≤ 0) alors\n",
    "       b ← m\n",
    "    sinon\n",
    "       a ← m\n",
    "    Fin Si\n",
    "Fin Tant que\n",
    "```"
   ]
  },
  {
   "cell_type": "markdown",
   "metadata": {},
   "source": [
    "## 2. Avec Python"
   ]
  },
  {
   "cell_type": "markdown",
   "metadata": {},
   "source": [
    "En Python, $e^x$ s'écrit ``exp(x)`` : il faut donc importer la fonction ``exp`` du module ``math``. On définit ensuite une fonction (Python) ``f``."
   ]
  },
  {
   "cell_type": "code",
   "execution_count": 2,
   "metadata": {},
   "outputs": [],
   "source": [
    "from math import exp\n",
    "\n",
    "def f(x):\n",
    "    return exp(x) * (x - 1) + x ** 2"
   ]
  },
  {
   "cell_type": "markdown",
   "metadata": {},
   "source": [
    "### 2.1 Écriture en Python"
   ]
  },
  {
   "cell_type": "markdown",
   "metadata": {},
   "source": [
    "Avec $\\varepsilon = 0,01$ :"
   ]
  },
  {
   "cell_type": "code",
   "execution_count": 3,
   "metadata": {},
   "outputs": [
    {
     "name": "stdout",
     "output_type": "stream",
     "text": [
      "0.734375\n",
      "0.7421875\n"
     ]
    }
   ],
   "source": [
    "a = 0\n",
    "b = 1\n",
    "\n",
    "while b - a > 0.01:     # tant que l'amplitude de [a;b] est > 0,01\n",
    "    m = (a + b) / 2\n",
    "    if f(a) * f(m) < 0: # dans ce cas, la solution appartient à l'intervalle [a;m]\n",
    "        b = m\n",
    "    else:               # sinon, la solution appartient à l'intervalle [m;b]\n",
    "        a = m\n",
    "        \n",
    "print(a)\n",
    "print(b)"
   ]
  },
  {
   "cell_type": "markdown",
   "metadata": {},
   "source": [
    "### 2.2 Avec une fonction"
   ]
  },
  {
   "cell_type": "markdown",
   "metadata": {},
   "source": [
    "On peut également écrire une fonction ``encadrement`` qui prend en paramètres :\n",
    "- les bornes ``a`` et ``b`` de l'intervalle dans lequel on cherche la solution ;\n",
    "- la précision ``epsilon`` souhaitée,  \n",
    "et qui renvoie les bornes d'un intervalle d'amplitude inférieure ou égale à $\\varepsilon$ dans lequel se trouve la solution de l'équation $f(x)=0$."
   ]
  },
  {
   "cell_type": "code",
   "execution_count": 3,
   "metadata": {},
   "outputs": [],
   "source": [
    "def encadrement(a, b, epsilon):\n",
    "    while b - a > epsilon:\n",
    "        m = (a + b) / 2\n",
    "        if f(a) * f(m) < 0:\n",
    "            b = m\n",
    "        else:\n",
    "            a = m\n",
    "    return a, b"
   ]
  },
  {
   "cell_type": "code",
   "execution_count": 4,
   "metadata": {},
   "outputs": [
    {
     "data": {
      "text/plain": [
       "(0.734375, 0.7421875)"
      ]
     },
     "execution_count": 4,
     "metadata": {},
     "output_type": "execute_result"
    }
   ],
   "source": [
    "encadrement(0, 1, 0.01)"
   ]
  },
  {
   "cell_type": "markdown",
   "metadata": {},
   "source": [
    "Le résultat ci-dessus signifie que la solution de l'équation $f(x)=0$ se trouve dans l'intervalle $[0,734375 ; 0,7421875]$. L'amplitude de cet intervalle est bien inférieure ou égale à $0,01$."
   ]
  }
 ],
 "metadata": {
  "kernelspec": {
   "display_name": "Python 3 (ipykernel)",
   "language": "python",
   "name": "python3"
  },
  "language_info": {
   "codemirror_mode": {
    "name": "ipython",
    "version": 3
   },
   "file_extension": ".py",
   "mimetype": "text/x-python",
   "name": "python",
   "nbconvert_exporter": "python",
   "pygments_lexer": "ipython3",
   "version": "3.9.10"
  },
  "latex_envs": {
   "LaTeX_envs_menu_present": true,
   "autoclose": false,
   "autocomplete": true,
   "bibliofile": "biblio.bib",
   "cite_by": "apalike",
   "current_citInitial": 1,
   "eqLabelWithNumbers": true,
   "eqNumInitial": 1,
   "hotkeys": {
    "equation": "Ctrl-E",
    "itemize": "Ctrl-I"
   },
   "labels_anchors": false,
   "latex_user_defs": false,
   "report_style_numbering": false,
   "user_envs_cfg": false
  }
 },
 "nbformat": 4,
 "nbformat_minor": 2
}
